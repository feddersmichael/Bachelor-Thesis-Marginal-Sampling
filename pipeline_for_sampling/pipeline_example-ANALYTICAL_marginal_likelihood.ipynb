{
 "cells": [
  {
   "cell_type": "code",
   "execution_count": null,
   "metadata": {
    "pycharm": {
     "is_executing": true
    }
   },
   "outputs": [],
   "source": [
    "import pypesto\n",
    "import pypesto.petab\n",
    "import pypesto.optimize as optimize\n",
    "import pypesto.sample as sample\n",
    "import pypesto.visualize as visualize\n",
    "\n",
    "import petab\n",
    "import numpy as np\n",
    "from scipy.special import gammaln\n",
    "import pickle\n",
    "\n",
    "# import to petab\n",
    "petab_problem = petab.Problem.from_yaml(\n",
    "    \"conversion_reaction/SS_conversion_reaction.yaml\")"
   ]
  },
  {
   "cell_type": "code",
   "execution_count": null,
   "metadata": {
    "pycharm": {
     "is_executing": true
    }
   },
   "outputs": [],
   "source": [
    "def analytical_b(t, a0, b0, k1, k2):\n",
    "    return (k2 - k2 * np.exp(-(k2 + k1) * t)) / (k2 + k1)\n",
    "\n",
    "def simulate_model(x, tvec):\n",
    "    # assign parameters\n",
    "    k1, k2 = x\n",
    "    # define initial conditions\n",
    "    a0 = 1\n",
    "    b0 = 0.01\n",
    "    # simulate model\n",
    "    simulation = [analytical_b(t, a0, b0, k1, k2)\n",
    "                   for t in tvec]\n",
    "    return simulation"
   ]
  },
  {
   "cell_type": "markdown",
   "metadata": {},
   "source": [
    "After importing the model, we need to define the objective function. This time we will do it via an external function that will be used then by pyPESTO instead of using the built-in ones.\n",
    "\n",
    "For numerical reasons we will implement the log likelihood and log prior."
   ]
  },
  {
   "cell_type": "code",
   "execution_count": null,
   "metadata": {
    "pycharm": {
     "is_executing": true
    }
   },
   "outputs": [],
   "source": [
    "def log_prior(x):\n",
    "    \"\"\" Log prior function.\"\"\"\n",
    "    # assign variables from input x\n",
    "    offset = x[2]\n",
    "    precision = x[3]\n",
    "    \n",
    "    # evaluate log normal-gamma prior\n",
    "    l_prior = alpha * np.log(beta) + (alpha - 0.5) * np.log(precision) \\\n",
    "            + 0.5 * (np.log(kappa) - np.log(2) - np.log(np.pi)) - gammaln(alpha) \\\n",
    "            - beta*precision - 0.5*precision*kappa*(offset - mu)**2\n",
    "    \n",
    "    return l_prior\n",
    "\n",
    "\n",
    "def negative_log_posterior(x):\n",
    "    \"\"\" Negative log posterior function.\"\"\"\n",
    "    \n",
    "    offset = x[2]\n",
    "    precision = x[3]                                                                            \n",
    "                                                                                \n",
    "    # experimental data\n",
    "    data = np.asarray(petab_problem.measurement_df.measurement)\n",
    "    # time vector\n",
    "    tvec = np.asarray(petab_problem.measurement_df.time)\n",
    "    \n",
    "    n_timepoints = len(tvec)\n",
    "    \n",
    "    # simulate model\n",
    "    _simulation = simulate_model(np.exp(x), tvec)\n",
    "    simulation = (offset + np.asarray(_simulation))\n",
    "    \n",
    "    # evaluate standard log likelihood\n",
    "    res = data - simulation\n",
    "    sum_res = np.sum(res**2)\n",
    "    \n",
    "    constant = np.log(precision) - np.log(2) - np.log(np.pi)\n",
    "    \n",
    "    l_llh = 0.5 * (n_timepoints * constant - precision * sum_res)\n",
    "    \n",
    "    # evaluate log normal-gamma prior\n",
    "    l_prior = log_prior(x)\n",
    "    \n",
    "    # return NEGATIVE log posterior (required for pyPESTO)\n",
    "    return -(l_llh + l_prior)"
   ]
  },
  {
   "cell_type": "code",
   "execution_count": null,
   "metadata": {
    "pycharm": {
     "is_executing": true
    }
   },
   "outputs": [],
   "source": [
    "def negative_log_marginal_posterior(x):\n",
    "    \"\"\"\n",
    "    negative logarithmic marginalized posterior\n",
    "    :param x: x_0 = k1, x_1 = k_2\n",
    "    \"\"\"\n",
    "    \n",
    "    # experimental data\n",
    "    data = np.asarray(petab_problem.measurement_df.measurement)\n",
    "    # time vector\n",
    "    tvec = np.asarray(petab_problem.measurement_df.time)\n",
    "    \n",
    "    n_timepoints = len(tvec)\n",
    "    \n",
    "    # simulate model\n",
    "    _simulation = simulate_model(np.exp(x), tvec)\n",
    "    simulation = np.asarray(_simulation)\n",
    "    \n",
    "    # evaluate standard log likelihood\n",
    "    res = data - simulation\n",
    "    \n",
    "    C_1 = (np.sum(res**2) + kappa * mu**2 + 2*beta)/2\n",
    "    C_2 = ((np.sum(res) + kappa * mu)**2) / (2 * (n_timepoints + kappa))\n",
    "    log_C = np.log(C_1 - C_2)\n",
    "    \n",
    "    mlikelihood_1 = alpha * ((np.log(beta)) - log_C)\n",
    "    mlikelihood_2 = gammaln(alpha)\n",
    "    mlikelihood_3 = (n_timepoints/2) * (np.log(2) + np.log(np.pi) + log_C)\n",
    "    mlikelihood_4 = (np.log(kappa) - np.log(n_timepoints + kappa)) / 2\n",
    "    mlikelihood_5 = gammaln(n_timepoints / 2 + alpha)\n",
    "    marg_likelihood = mlikelihood_1 - mlikelihood_2 - mlikelihood_3 + mlikelihood_4 + mlikelihood_5\n",
    "    \n",
    "    \n",
    "    return -marg_likelihood"
   ]
  },
  {
   "cell_type": "markdown",
   "metadata": {},
   "source": [
    "Now that we have the objective function defined, we need to create a pyPESTO problem."
   ]
  },
  {
   "cell_type": "code",
   "execution_count": null,
   "metadata": {
    "pycharm": {
     "is_executing": true
    }
   },
   "outputs": [],
   "source": [
    "def standard_sampling():\n",
    "    \"\"\"Creates a pyPESTO problem.\"\"\"\n",
    "    objective = pypesto.Objective(fun=negative_log_marginal_posterior)\n",
    "    problem = pypesto.Problem(objective=objective,  # objective function\n",
    "                              lb=[-5, -5],  # lower bounds\n",
    "                              ub=[5, 5],  # upper bounds\n",
    "                              x_names=['k1', 'k2'],  # parameter names\n",
    "                              x_scales=['log', 'log'])  # parameter scale\n",
    "    return problem"
   ]
  },
  {
   "cell_type": "code",
   "execution_count": null,
   "metadata": {
    "pycharm": {
     "is_executing": true
    }
   },
   "outputs": [],
   "source": [
    "### Prior dependent paramters\n",
    "# center the scaling parameter\n",
    "mu=0\n",
    "# std for scaling parameter --> higher = more constrained / lower = more relaxed\n",
    "alpha=100\n",
    "# center the sigma parameter\n",
    "beta=0.1\n",
    "# std for scaling parameter --> higher = more constrained / lower = more relaxed\n",
    "kappa=0.01\n",
    "\n",
    "# create the estimation problem\n",
    "problem = standard_sampling()\n",
    "\n",
    "# MCMC chain length\n",
    "n_samples= 10000\n",
    "\n",
    "# call the sampler of choice\n",
    "sampler = sample.AdaptiveMetropolisSampler()"
   ]
  },
  {
   "cell_type": "markdown",
   "metadata": {},
   "source": [
    "Now we can perform the actual sampling."
   ]
  },
  {
   "cell_type": "code",
   "execution_count": null,
   "metadata": {
    "pycharm": {
     "is_executing": true
    }
   },
   "outputs": [],
   "source": [
    "# Define number of runs\n",
    "runs = 50\n",
    "\n",
    "save_results = True # for testing just set to False\n",
    "\n",
    "# Loop over n runs\n",
    "for n in range(runs):\n",
    "    # set initial random seed\n",
    "    np.random.seed(n)\n",
    "    # perform MCMC sampling\n",
    "    \n",
    "    result = sample.sample(problem, n_samples=n_samples, sampler=sampler,\n",
    "                           x0=np.array([-1.2741, -0.6160])) \n",
    "    # result class object is created, \n",
    "    \n",
    "    \n",
    "    # calculate effective sample size\n",
    "    sample.effective_sample_size(result=result)\n",
    "\n",
    "    # save the results as a pickle object\n",
    "    if save_results:\n",
    "        with open('result_SS_'+str(n)+'.pickle', \n",
    "                  'wb') as result_file:\n",
    "            pickle.dump(result.sample_result, result_file)\n",
    "            result_file.close()"
   ]
  },
  {
   "cell_type": "markdown",
   "metadata": {},
   "source": [
    "There are some built-in visualization functions that one can use."
   ]
  },
  {
   "cell_type": "code",
   "execution_count": null,
   "metadata": {
    "pycharm": {
     "is_executing": true
    }
   },
   "outputs": [],
   "source": [
    "# Visualize the log posterior trace\n",
    "ax = visualize.sampling_fval_trace(result, size=(12,5), full_trace=True)\n",
    "# Visualize the parameter trace\n",
    "ax = visualize.sampling_parameters_trace(result, use_problem_bounds=False, full_trace=True, size=(12,5))\n",
    "# Visualize the one-dimensional marginals --> Important!\n",
    "ax = visualize.sampling_1d_marginals(result, size=(12,5))"
   ]
  },
  {
   "cell_type": "code",
   "execution_count": null,
   "metadata": {
    "pycharm": {
     "is_executing": true
    }
   },
   "outputs": [],
   "source": [
    "mu=0\n",
    "\n",
    "# Loop over n runs\n",
    "for n in range(runs):\n",
    "    # set initial random seed\n",
    "    np.random.seed(n)\n",
    "    # perform MCMC sampling\n",
    "    res = sample.sample(problem, n_samples=n_samples, sampler=sampler,\n",
    "                           x0=np.array([-1.2741, -0.6160, 0.7826, 3.6839]))\n",
    "    # calculate effective sample size\n",
    "    sample.effective_sample_size(result=res)\n",
    "\n",
    "    # Visualize the one-dimensional marginals --> Important!\n",
    "    ax = visualize.sampling_1d_marginals(res, size=(12,5))"
   ]
  },
  {
   "cell_type": "code",
   "execution_count": null,
   "metadata": {
    "pycharm": {
     "is_executing": true
    }
   },
   "outputs": [],
   "source": []
  }
 ],
 "metadata": {
  "kernelspec": {
   "display_name": "PyCharm (pyPESTO)",
   "language": "python",
   "name": "pycharm-5c126572"
  },
  "language_info": {
   "codemirror_mode": {
    "name": "ipython",
    "version": 3
   },
   "file_extension": ".py",
   "mimetype": "text/x-python",
   "name": "python",
   "nbconvert_exporter": "python",
   "pygments_lexer": "ipython3",
   "version": "3.8.5"
  }
 },
 "nbformat": 4,
 "nbformat_minor": 2
}