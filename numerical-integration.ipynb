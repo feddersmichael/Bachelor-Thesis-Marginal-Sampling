{
 "cells": [
  {
   "cell_type": "markdown",
   "metadata": {
    "collapsed": true,
    "pycharm": {
     "name": "#%% md\n"
    }
   },
   "source": [
    "Examination of analytical solutions of integrals by numerical integration\n"
   ]
  },
  {
   "cell_type": "code",
   "execution_count": 2,
   "outputs": [
    {
     "name": "stderr",
     "output_type": "stream",
     "text": [
      "c:\\users\\fedde\\pycharmprojects\\bachelor-thesis\\venv\\lib\\site-packages\\scipy\\integrate\\quadpack.py:865: IntegrationWarning: The algorithm does not converge.  Roundoff error is detected\n",
      "  in the extrapolation table.  It is assumed that the requested tolerance\n",
      "  cannot be achieved, and that the returned result (if full_output = 1) is \n",
      "  the best which can be obtained.\n",
      "  **opt)\n"
     ]
    }
   ],
   "source": [
    "import scipy.integrate\n",
    "import math\n",
    "import numpy as np\n",
    "\n",
    "\n",
    "rng = np.random.default_rng()\n",
    "N = 10\n",
    "hk = list(range(N))\n",
    "yk = list(range(N))\n",
    "\n",
    "def integrand (c, s): #c as c, s as sigma^2\n",
    "    sigsq = math.sqrt(s)\n",
    "    prefactor = 1/((math.sqrt(2*math.pi*s))**N)\n",
    "    integr = 0\n",
    "    for k in range(N):\n",
    "        yk[k] = rng.normal(c + k, sigsq)\n",
    "        integr += ((yk[k] - c - hk[k])/sigsq)**2\n",
    "\n",
    "    integr = math.expm1(integr/2)\n",
    "\n",
    "    return prefactor * integr\n",
    "\n",
    "ans, err = scipy.integrate.dblquad(integrand, 0, 20, lambda x: -10, lambda x: 10)"
   ],
   "metadata": {
    "collapsed": false,
    "pycharm": {
     "name": "#%%\n"
    }
   }
  }
 ],
 "metadata": {
  "kernelspec": {
   "display_name": "Python 3",
   "language": "python",
   "name": "python3"
  },
  "language_info": {
   "codemirror_mode": {
    "name": "ipython",
    "version": 2
   },
   "file_extension": ".py",
   "mimetype": "text/x-python",
   "name": "python",
   "nbconvert_exporter": "python",
   "pygments_lexer": "ipython2",
   "version": "2.7.6"
  }
 },
 "nbformat": 4,
 "nbformat_minor": 0
}