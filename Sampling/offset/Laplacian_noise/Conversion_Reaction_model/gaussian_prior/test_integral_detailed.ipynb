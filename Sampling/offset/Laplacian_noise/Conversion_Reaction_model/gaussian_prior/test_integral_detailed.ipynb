{
 "cells": [
  {
   "cell_type": "code",
   "execution_count": 1,
   "metadata": {},
   "outputs": [],
   "source": [
    "\"\"\"\n",
    "Numerical testing of the analytically derived integral\n",
    "\"\"\"\n",
    "\n",
    "import os\n",
    "\n",
    "import matplotlib.pyplot as plt\n",
    "import numpy as np\n",
    "import pandas as pd\n",
    "import scipy.integrate as integrate\n",
    "from scipy.special import erf\n",
    "import seaborn as sns\n",
    "\n",
    "import matplotlib.colors as mcolors"
   ]
  },
  {
   "cell_type": "code",
   "execution_count": 2,
   "metadata": {},
   "outputs": [],
   "source": [
    "levs=201\n",
    "cmap = mcolors.LinearSegmentedColormap.from_list(name='red_white_blue', \n",
    "                                                 colors =[(0, 0, 1), \n",
    "                                                          (1, 1, 1), \n",
    "                                                          (1, 0, 0)],\n",
    "                                                 N=levs-1,\n",
    "                                                 )"
   ]
  },
  {
   "cell_type": "code",
   "execution_count": 3,
   "metadata": {},
   "outputs": [
    {
     "data": {
      "image/png": "[encoded data removed]",
      "text/html": [
       "<div style=\"vertical-align: middle;\"><strong>red_white_blue</strong> </div><div class=\"cmap\"><img alt=\"red_white_blue colormap\" title=\"red_white_blue\" style=\"border: 1px solid #555;\" src=\"data:image/png;base64,iVBORw0KGgoAAAANSUhEUgAAAgAAAABACAYAAABsv8+/AAAAHXRFWHRUaXRsZQByZWRfd2hpdGVfYmx1ZSBjb2xvcm1hcBh4yd8AAAAjdEVYdERlc2NyaXB0aW9uAHJlZF93aGl0ZV9ibHVlIGNvbG9ybWFwHlMsLgAAADB0RVh0QXV0aG9yAE1hdHBsb3RsaWIgdjMuNC4yLCBodHRwczovL21hdHBsb3RsaWIub3JnrNZj3QAAADJ0RVh0U29mdHdhcmUATWF0cGxvdGxpYiB2My40LjIsIGh0dHBzOi8vbWF0cGxvdGxpYi5vcmeCcPz6AAABgklEQVR4nO3WwW6CUABFwSf+/yeL3ajtolUSoJCcmY34FjdGAjmXMe738TBN4+V6XX/2/Nxj52zbS3eO3F6z81/bW//GPbbf3auzbC99DqYxf3+ZH9e32/uz5/U8LzvbaueI7S129tz+7X842/ane3WG7aU7R26v2flj+8erAACoEAAAECQAACBIAABAkAAAgCABAABBAgAAggQAAAQJAAAIEgAAECQAACBIAABAkAAAgCABAABBAgAAggQAAAQJAAAIEgAAECQAACBIAABAkAAAgCABAABBAgAAggQAAAQJAAAIEgAAECQAACBIAABAkAAAgCABAABBAgAAggQAAAQJAAAIEgAAECQAACBIAABAkAAAgCABAABBAgAAggQAAAQJAAAIEgAAECQAACBIAABAkAAAgCABAABBAgAAggQAAAQJAAAIEgAAECQAACBIAABAkAAAgCABAABBAgAAggQAAAQJAAAIEgAAECQAACBIAABAkAAAgCABAABBAgAAgr4AP7/Jft++A/gAAAAASUVORK5CYII=\"></div><div style=\"vertical-align: middle; max-width: 514px; display: flex; justify-content: space-between;\"><div style=\"float: left;\"><div title=\"#0000ffff\" style=\"display: inline-block; width: 1em; height: 1em; margin: 0; vertical-align: middle; border: 1px solid #555; background-color: #0000ffff;\"></div> under</div><div style=\"margin: 0 auto; display: inline-block;\">bad <div title=\"#00000000\" style=\"display: inline-block; width: 1em; height: 1em; margin: 0; vertical-align: middle; border: 1px solid #555; background-color: #00000000;\"></div></div><div style=\"float: right;\">over <div title=\"#ff0000ff\" style=\"display: inline-block; width: 1em; height: 1em; margin: 0; vertical-align: middle; border: 1px solid #555; background-color: #ff0000ff;\"></div></div>"
      ],
      "text/plain": [
       "<matplotlib.colors.LinearSegmentedColormap at 0x7fa1f4abd400>"
      ]
     },
     "execution_count": 3,
     "metadata": {},
     "output_type": "execute_result"
    }
   ],
   "source": [
    "cmap"
   ]
  },
  {
   "cell_type": "code",
   "execution_count": 4,
   "metadata": {},
   "outputs": [],
   "source": [
    "def relative_error():\n",
    "    \n",
    "    Generator = np.random.default_rng()\n",
    "    df = [np.nan*np.zeros(21 * 20), np.nan*np.zeros(21 * 20), np.nan*np.zeros(21 * 20)]\n",
    "    for n, offset_value in enumerate(np.linspace(-10, 10, 21)):\n",
    "        df[0][n * 20:(n + 1) * 20] = offset_value\n",
    "    scale_values = [0.5 + n / 10 for n in range(1, 21)]\n",
    "    for n, value in enumerate(df[1]):\n",
    "        df[1][n] = scale_values[n % 20]\n",
    "\n",
    "    for i, value in enumerate(df[2]):\n",
    "        \n",
    "        offset = df[0][i]\n",
    "        scale = df[1][i]\n",
    "        \n",
    "        data = []\n",
    "        for n in range(len(observable)):\n",
    "            data.append(Generator.laplace(offset + n + 1, scale))\n",
    "        \n",
    "        data = np.asarray(data)\n",
    "\n",
    "        analytical = analytical_laplace(data, scale)\n",
    "        numerical = numerical_marginalisation_offset(data, scale)\n",
    "        \n",
    "        eps = 1e-6\n",
    "        relative_error = abs(numerical-analytical)/abs(analytical+eps)\n",
    "        \n",
    "        df[2][i] = relative_error\n",
    "        \n",
    "        if np.isnan(relative_error):\n",
    "            print(list(data))\n",
    "            print(scale)\n",
    "            break\n",
    "\n",
    "    _df = pd.DataFrame({'offset': df[0], 'scale': df[1], 'relative_error': df[2]})\n",
    "    pivot = _df.pivot(index='offset', columns='scale', values='relative_error')\n",
    "    \n",
    "    _abs_limit=max([abs(_df.relative_error.max()), abs(_df.relative_error.min())])\n",
    "    \n",
    "    abs_limit=max([1, _abs_limit])\n",
    "    \n",
    "    plt.figure(figsize=(13, 10))\n",
    "    ax = sns.heatmap(pivot, cmap=cmap, linewidths=.5,\n",
    "                     cbar_kws={'label': 'relative error'}, vmin=-abs_limit, vmax=abs_limit\n",
    "                    )\n",
    "    # plt.savefig(fname=d + '\\\\plots\\\\relative_error_gaussian_noise.png')\n",
    "    plt.show()\n",
    "    \n",
    "    return _df"
   ]
  },
  {
   "cell_type": "code",
   "execution_count": 5,
   "metadata": {},
   "outputs": [],
   "source": [
    "def gaussian_prior(offset, _tau = 1.5, mu = 1.5):\n",
    "    \"\"\" Prior function.\"\"\"\n",
    "\n",
    "    tau = 1/_tau**2\n",
    "    \n",
    "    #Gaussian prior\n",
    "    Gauss_prior = np.sqrt(tau/(2*np.pi))*np.exp(-0.5*tau*(offset - mu)**2)\n",
    "\n",
    "    return Gauss_prior\n",
    "\n",
    "\n",
    "def log_likelihood(offset, scale, data):\n",
    "    \"\"\" Log likelihood function.\"\"\"\n",
    "\n",
    "    N = len(data)\n",
    "\n",
    "    simulation = offset + observable\n",
    "\n",
    "    # evaluate standard log likelihood\n",
    "    res = abs(data - simulation)\n",
    "    sum_res = np.sum(res) / scale\n",
    "\n",
    "    l_llh = N*(- np.log(2) -np.log(scale)) - sum_res\n",
    "\n",
    "    # return log posterior\n",
    "    return l_llh\n",
    "\n",
    "\n",
    "def evaluate_posterior_standard(offset, scale, data):\n",
    "    \n",
    "    # evaluate likelihood\n",
    "    likelihood = np.exp(log_likelihood(offset, scale, data))\n",
    "    \n",
    "    # evaluate prior\n",
    "    prior = gaussian_prior(offset)\n",
    "    \n",
    "    # return posterior\n",
    "    return likelihood*prior\n",
    "\n",
    "\n",
    "def numerical_marginalisation_offset(data, scale):\n",
    "    marginal_posterior, _ = integrate.quad(evaluate_posterior_standard, -np.inf, np.inf, args=(scale, data))\n",
    "\n",
    "    return -np.log(marginal_posterior)"
   ]
  },
  {
   "cell_type": "code",
   "execution_count": 6,
   "metadata": {},
   "outputs": [],
   "source": [
    "def _evaluate_integral0(offset,scale,b_vector):\n",
    "    \"\"\" Negative log posterior function.\"\"\"\n",
    "\n",
    "    # evaluate standard log likelihood\n",
    "    res = abs(offset - b_vector)\n",
    "    sum_res = np.exp(-np.sum(res) / scale)\n",
    "\n",
    "    # evaluate log normal-gamma prior\n",
    "    prior = gaussian_prior(offset)\n",
    "\n",
    "    # return log posterior\n",
    "    return sum_res * prior\n",
    "\n",
    "def _numerical_marginalisation_offset0(data, scale):\n",
    "    \n",
    "    N = len(data)\n",
    "    simulation = observable\n",
    "    \n",
    "    # evaluate standard log likelihood\n",
    "    res = data - simulation\n",
    "    b_vector = np.sort(res)\n",
    "    \n",
    "    bounds = np.append(np.append(-np.inf, b_vector), np.inf)\n",
    "    \n",
    "    marginal_posterior = 0\n",
    "    for i in range(len(bounds)-1):\n",
    "        _marginal_posterior, _ = integrate.quad(_evaluate_integral0, \n",
    "                                                bounds[i], bounds[i+1], \n",
    "                                                args=(scale, b_vector))\n",
    "\n",
    "        marginal_posterior += _marginal_posterior\n",
    "    \n",
    "    log_marginal_posterior = np.log(marginal_posterior)\n",
    "    log_marginal_posterior += -N*(np.log(2) + np.log(scale))\n",
    "    \n",
    "    return -log_marginal_posterior"
   ]
  },
  {
   "cell_type": "code",
   "execution_count": 7,
   "metadata": {},
   "outputs": [],
   "source": [
    "def _evaluate_integral1(offset,scale,N,i):\n",
    "    \"\"\" Negative log posterior function.\"\"\"\n",
    "\n",
    "    l_llh = offset*(N-2*i)/scale\n",
    "\n",
    "    # evaluate log normal-gamma prior\n",
    "    prior = gaussian_prior(offset)\n",
    "\n",
    "    # return log posterior\n",
    "    return np.exp(l_llh) * prior\n",
    "\n",
    "def _numerical_marginalisation_offset1(data, scale):\n",
    "    \n",
    "    N = len(data)\n",
    "    simulation = observable\n",
    "    \n",
    "    # evaluate standard log likelihood\n",
    "    res = data - simulation\n",
    "    b_vector = np.sort(res)\n",
    "    \n",
    "    bounds = np.append(np.append(-np.inf, b_vector), np.inf)\n",
    "    \n",
    "    marginal_posterior = 0\n",
    "    for i in range(len(bounds)-1):\n",
    "        _marginal_posterior, _ = integrate.quad(_evaluate_integral1, \n",
    "                                                bounds[i], bounds[i+1], \n",
    "                                                args=(scale, N, i))\n",
    "        \n",
    "        if _marginal_posterior == 0:\n",
    "            continue  # to avoid numerical overflow\n",
    "        else:\n",
    "            l_i = np.sum(b_vector[:i]) - np.sum(b_vector[i:])\n",
    "            marginal_posterior += _marginal_posterior*np.exp(l_i/scale)\n",
    "\n",
    "    \n",
    "    log_marginal_posterior = np.log(marginal_posterior)\n",
    "    log_marginal_posterior += -N*(np.log(2) + np.log(scale))\n",
    "    \n",
    "    return -log_marginal_posterior"
   ]
  },
  {
   "cell_type": "code",
   "execution_count": 8,
   "metadata": {},
   "outputs": [],
   "source": [
    "def _evaluate_integral2(offset,scale,aux, _tau = 1.5, mu = 1.5):\n",
    "    \"\"\" Negative log posterior function.\"\"\"\n",
    "    \n",
    "    tau = 1/_tau**2\n",
    "    \n",
    "    l_llh = -0.5*tau*(offset - (aux/(tau*scale)+mu))**2\n",
    "\n",
    "    # return log posterior\n",
    "    return np.exp(l_llh)\n",
    "\n",
    "def _numerical_marginalisation_offset2(data, scale, _tau = 1.5, mu = 1.5):\n",
    "    \n",
    "    tau = 1/_tau**2\n",
    "    \n",
    "    N = len(data)\n",
    "    simulation = observable\n",
    "    \n",
    "    # evaluate standard log likelihood\n",
    "    res = data - simulation\n",
    "    b_vector = np.sort(res)\n",
    "    \n",
    "    bounds = np.append(np.append(-np.inf, b_vector), np.inf)\n",
    "    \n",
    "    marginal_posterior = 0\n",
    "    for i in range(len(bounds)-1):\n",
    "        \n",
    "        aux = N-2*i\n",
    "        \n",
    "        _marginal_posterior, _ = integrate.quad(_evaluate_integral2, \n",
    "                                                bounds[i], bounds[i+1], \n",
    "                                                args=(scale, aux))\n",
    "        \n",
    "        if _marginal_posterior == 0:\n",
    "            continue  # to avoid numerical overflow\n",
    "        else:\n",
    "            l_i = np.sum(b_vector[:i]) - np.sum(b_vector[i:])\n",
    "            _aux = aux**2/(2*tau*scale**2)+mu*aux/scale\n",
    "            \n",
    "            marginal_posterior += np.exp(np.log(_marginal_posterior)+l_i/scale+_aux)\n",
    "    \n",
    "    log_marginal_posterior = np.log(marginal_posterior)\n",
    "    log_marginal_posterior += -(N+0.5)*np.log(2) - N*np.log(scale) + 0.5*np.log(tau) - 0.5*np.log(np.pi)\n",
    "    \n",
    "    return -log_marginal_posterior"
   ]
  },
  {
   "cell_type": "code",
   "execution_count": 9,
   "metadata": {},
   "outputs": [],
   "source": [
    "def _evaluate_integral3(z):\n",
    "    return np.exp(-z**2)\n",
    "\n",
    "def _numerical_marginalisation_offset3(data, scale, _tau = 1.5, mu = 1.5):\n",
    "    \n",
    "    tau = 1/_tau**2\n",
    "    \n",
    "    N = len(data)\n",
    "    simulation = observable\n",
    "    \n",
    "    # evaluate standard log likelihood\n",
    "    res = data - simulation\n",
    "    b_vector = np.sort(res)\n",
    "    \n",
    "    bounds = np.append(np.append(-np.inf, b_vector), np.inf)\n",
    "    \n",
    "    marginal_posterior = 0\n",
    "    for i in range(len(bounds)-1):\n",
    "        \n",
    "        aux = N-2*i\n",
    "        \n",
    "        _marginal_posterior, _ = integrate.quad(_evaluate_integral3, \n",
    "                                                _substitution_function(bounds[i], scale, aux, tau, mu),\n",
    "                                                _substitution_function(bounds[i+1], scale, aux, tau, mu)\n",
    "                                               )\n",
    "        \n",
    "        if _marginal_posterior == 0:\n",
    "            continue  # to avoid numerical overflow\n",
    "        else:\n",
    "            l_i = np.sum(b_vector[:i]) - np.sum(b_vector[i:])\n",
    "            _aux = aux**2/(2*tau*scale**2)+mu*aux/scale\n",
    "            \n",
    "            marginal_posterior += np.exp(np.log(_marginal_posterior)+l_i/scale+_aux)\n",
    "            \n",
    "    log_marginal_posterior = np.log(marginal_posterior)\n",
    "    log_marginal_posterior += -(N+0.5)*np.log(2) - N*np.log(scale) + 0.5*np.log(tau) - 0.5*np.log(np.pi)\n",
    "    \n",
    "    return -log_marginal_posterior"
   ]
  },
  {
   "cell_type": "code",
   "execution_count": 10,
   "metadata": {},
   "outputs": [],
   "source": [
    "def _substitution_function(z, scale, aux, tau, mu):\n",
    "    return (z - aux / (tau * scale) - mu) / np.sqrt(2 / tau)"
   ]
  },
  {
   "cell_type": "code",
   "execution_count": 11,
   "metadata": {},
   "outputs": [],
   "source": [
    "def evaluate_k(element_1, element_2, n_case):\n",
    "    if n_case == 1:\n",
    "        return erf(-element_1)-erf(-element_2)\n",
    "    elif n_case == 2:\n",
    "        return erf(-element_1)+erf(element_2)\n",
    "    elif n_case == 3:\n",
    "        return -erf(element_1)+erf(element_2)\n",
    "\n",
    "\n",
    "def analytical_laplace(data, scale, _tau = 1.5, mu = 1.5):\n",
    "    \n",
    "    tau = 1/_tau**2\n",
    "    \n",
    "    N = len(data)\n",
    "    simulation = observable\n",
    "    \n",
    "    # evaluate standard log likelihood\n",
    "    res = data - simulation\n",
    "    b_vector = np.sort(res)\n",
    "    \n",
    "    bounds = np.append(np.append(-np.inf, b_vector), np.inf)\n",
    "    \n",
    "    marginal_posterior = 0\n",
    "    for i in range(len(bounds)-1):\n",
    "        \n",
    "        aux = N-2*i\n",
    "\n",
    "        element_1 = _substitution_function(bounds[i], scale, \n",
    "                                           aux, tau, mu)\n",
    "        element_2 = _substitution_function(bounds[i+1], scale, \n",
    "                                           aux, tau, mu)\n",
    "        \n",
    "        if element_1 <= element_2 <= 0:\n",
    "            n_case = 1\n",
    "        elif element_1 <= 0 <= element_2:\n",
    "            n_case = 2\n",
    "        elif 0 <= element_1 <= element_2:\n",
    "            n_case = 3\n",
    "        \n",
    "        k_i = evaluate_k(element_1, element_2, n_case)\n",
    "        \n",
    "        if k_i == 0:\n",
    "            continue  # to avoid numerical overflow\n",
    "        \n",
    "        else:\n",
    "            l_i = np.sum(b_vector[:i]) - np.sum(b_vector[i:])\n",
    "            _aux = aux**2/(2*tau*scale**2)+mu*aux/scale\n",
    "\n",
    "            marginal_posterior += k_i*np.exp(l_i/scale+_aux)\n",
    "    \n",
    "    log_marginal_posterior = np.log(marginal_posterior)\n",
    "    log_marginal_posterior += -(N + 1)*np.log(2) - N*np.log(scale)\n",
    "    \n",
    "    return -log_marginal_posterior"
   ]
  },
  {
   "cell_type": "code",
   "execution_count": 12,
   "metadata": {},
   "outputs": [],
   "source": [
    "observable = np.array(range(1, 16))"
   ]
  },
  {
   "cell_type": "code",
   "execution_count": 13,
   "metadata": {},
   "outputs": [],
   "source": [
    "data = np.array([-8.734234535804228, -8.070241412626324, -7.258959850611621, \n",
    "                 -5.630231801619782, -5.337659957698826, -4.742431451006856, \n",
    "                 -3.7248998999705885, -1.6375239224105091, -1.023813949817059, \n",
    "                 -1.7258526076783034, 1.017255609480662, 2.3401348870036496, \n",
    "                 2.5754785066602897, 5.066078669337017, 5.0221409469957115])\n",
    "\n",
    "scale = 0.6"
   ]
  },
  {
   "cell_type": "code",
   "execution_count": 14,
   "metadata": {},
   "outputs": [
    {
     "data": {
      "text/plain": [
       "62.1542043402912"
      ]
     },
     "execution_count": 14,
     "metadata": {},
     "output_type": "execute_result"
    }
   ],
   "source": [
    "numerical_marginalisation_offset(data, scale)"
   ]
  },
  {
   "cell_type": "code",
   "execution_count": 15,
   "metadata": {},
   "outputs": [
    {
     "data": {
      "text/plain": [
       "45.69075574631228"
      ]
     },
     "execution_count": 15,
     "metadata": {},
     "output_type": "execute_result"
    }
   ],
   "source": [
    "_numerical_marginalisation_offset0(data, scale)"
   ]
  },
  {
   "cell_type": "code",
   "execution_count": 16,
   "metadata": {},
   "outputs": [
    {
     "data": {
      "text/plain": [
       "45.6907557463123"
      ]
     },
     "execution_count": 16,
     "metadata": {},
     "output_type": "execute_result"
    }
   ],
   "source": [
    "_numerical_marginalisation_offset1(data, scale)"
   ]
  },
  {
   "cell_type": "code",
   "execution_count": 17,
   "metadata": {},
   "outputs": [
    {
     "data": {
      "text/plain": [
       "45.690756862217356"
      ]
     },
     "execution_count": 17,
     "metadata": {},
     "output_type": "execute_result"
    }
   ],
   "source": [
    "_numerical_marginalisation_offset2(data, scale)"
   ]
  },
  {
   "cell_type": "code",
   "execution_count": 18,
   "metadata": {},
   "outputs": [
    {
     "data": {
      "text/plain": [
       "46.442795560605504"
      ]
     },
     "execution_count": 18,
     "metadata": {},
     "output_type": "execute_result"
    }
   ],
   "source": [
    "_numerical_marginalisation_offset3(data, scale)"
   ]
  },
  {
   "cell_type": "code",
   "execution_count": 19,
   "metadata": {},
   "outputs": [
    {
     "data": {
      "text/plain": [
       "46.19662017158599"
      ]
     },
     "execution_count": 19,
     "metadata": {},
     "output_type": "execute_result"
    }
   ],
   "source": [
    "analytical_laplace(data, scale)"
   ]
  },
  {
   "cell_type": "code",
   "execution_count": 20,
   "metadata": {},
   "outputs": [
    {
     "data": {
      "image/png": "[encoded data removed]",
      "text/plain": [
       "<Figure size 936x720 with 2 Axes>"
      ]
     },
     "metadata": {
      "needs_background": "light"
     },
     "output_type": "display_data"
    }
   ],
   "source": [
    "df = relative_error()"
   ]
  },
  {
   "cell_type": "code",
   "execution_count": 21,
   "metadata": {},
   "outputs": [
    {
     "data": {
      "text/plain": [
       "(array([], dtype=int64),)"
      ]
     },
     "execution_count": 21,
     "metadata": {},
     "output_type": "execute_result"
    }
   ],
   "source": [
    "np.where(np.isnan(df.relative_error))"
   ]
  },
  {
   "cell_type": "code",
   "execution_count": 22,
   "metadata": {},
   "outputs": [
    {
     "data": {
      "image/png": "[encoded data removed]",
      "text/plain": [
       "<Figure size 432x288 with 1 Axes>"
      ]
     },
     "metadata": {
      "needs_background": "light"
     },
     "output_type": "display_data"
    }
   ],
   "source": [
    "sns.kdeplot(df.relative_error)\n",
    "# plt.xlim([-1,1])\n",
    "plt.show()"
   ]
  },
  {
   "cell_type": "code",
   "execution_count": null,
   "metadata": {},
   "outputs": [],
   "source": []
  }
 ],
 "metadata": {
  "kernelspec": {
   "display_name": "Python 3",
   "language": "python",
   "name": "python3"
  },
  "language_info": {
   "codemirror_mode": {
    "name": "ipython",
    "version": 3
   },
   "file_extension": ".py",
   "mimetype": "text/x-python",
   "name": "python",
   "nbconvert_exporter": "python",
   "pygments_lexer": "ipython3",
   "version": "3.9.5"
  }
 },
 "nbformat": 4,
 "nbformat_minor": 2
}
