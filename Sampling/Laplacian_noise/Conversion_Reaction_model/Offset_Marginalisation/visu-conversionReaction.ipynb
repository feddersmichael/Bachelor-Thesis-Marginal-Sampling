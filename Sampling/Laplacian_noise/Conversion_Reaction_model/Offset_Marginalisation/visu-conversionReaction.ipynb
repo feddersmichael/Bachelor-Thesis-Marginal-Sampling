{
 "cells": [
  {
   "cell_type": "code",
   "execution_count": 1,
   "metadata": {
    "pycharm": {
     "is_executing": true
    }
   },
   "outputs": [],
   "source": [
    "import pickle, os\n",
    "import numpy as np\n",
    "import pandas as pd\n",
    "import petab\n",
    "\n",
    "import seaborn as sns\n",
    "import matplotlib.pyplot as plt\n",
    "from copy import deepcopy\n",
    "\n",
    "%matplotlib inline"
   ]
  },
  {
   "cell_type": "code",
   "execution_count": 2,
   "metadata": {
    "pycharm": {
     "is_executing": true
    }
   },
   "outputs": [],
   "source": [
    "datatype = \"original\"\n",
    "\n",
    "# import to petab\n",
    "if datatype == \"original\":\n",
    "    petab_problem = petab.Problem.from_yaml(\n",
    "    \"corrupted_data/SS_conversion_reaction_original.yaml\")\n",
    "elif datatype == \"switch\":\n",
    "    petab_problem = petab.Problem.from_yaml(\n",
    "    \"corrupted_data/SS_conversion_reaction_switch.yaml\")\n",
    "else:\n",
    "    petab_problem = petab.Problem.from_yaml(\n",
    "    \"corrupted_data/SS_conversion_reaction_loss .yaml\")\n",
    "\n",
    "\n",
    "# experimental data\n",
    "data = np.asarray(petab_problem.measurement_df.measurement)\n",
    "# time vector\n",
    "tvec = np.asarray(petab_problem.measurement_df.time)\n",
    "\n",
    "def analytical_b(t, a0, b0, k1, k2):\n",
    "    return (k2 - k2 * np.exp(-(k2 + k1) * t)) / (k2 + k1)\n",
    "\n",
    "def simulate_model(x, tvec):\n",
    "    # assign parameters\n",
    "    k1, k2, _ = x\n",
    "    # define initial conditions\n",
    "    a0 = 1\n",
    "    b0 = 0\n",
    "    # simulate model\n",
    "    simulation = [analytical_b(t, a0, b0, k1, k2)\n",
    "                   for t in tvec]\n",
    "    return simulation"
   ]
  },
  {
   "cell_type": "code",
   "execution_count": 3,
   "metadata": {
    "pycharm": {
     "is_executing": true
    },
    "scrolled": true
   },
   "outputs": [
    {
     "ename": "FileNotFoundError",
     "evalue": "[WinError 3] Das System kann den angegebenen Pfad nicht finden: './Results/Full_parameter/'",
     "output_type": "error",
     "traceback": [
      "\u001B[1;31m---------------------------------------------------------------------------\u001B[0m",
      "\u001B[1;31mFileNotFoundError\u001B[0m                         Traceback (most recent call last)",
      "\u001B[1;32m<ipython-input-3-0846f145c039>\u001B[0m in \u001B[0;36m<module>\u001B[1;34m\u001B[0m\n\u001B[0;32m      5\u001B[0m \u001B[1;33m\u001B[0m\u001B[0m\n\u001B[0;32m      6\u001B[0m \u001B[0mfoldername\u001B[0m \u001B[1;33m=\u001B[0m \u001B[1;34m'./Results/Full_parameter/'\u001B[0m\u001B[1;33m\u001B[0m\u001B[1;33m\u001B[0m\u001B[0m\n\u001B[1;32m----> 7\u001B[1;33m \u001B[0monlyfiles\u001B[0m \u001B[1;33m=\u001B[0m \u001B[1;33m[\u001B[0m\u001B[0mf\u001B[0m \u001B[1;32mfor\u001B[0m \u001B[0mf\u001B[0m \u001B[1;32min\u001B[0m \u001B[0mos\u001B[0m\u001B[1;33m.\u001B[0m\u001B[0mlistdir\u001B[0m\u001B[1;33m(\u001B[0m\u001B[0mfoldername\u001B[0m\u001B[1;33m)\u001B[0m \u001B[1;32mif\u001B[0m \u001B[0mos\u001B[0m\u001B[1;33m.\u001B[0m\u001B[0mpath\u001B[0m\u001B[1;33m.\u001B[0m\u001B[0misfile\u001B[0m\u001B[1;33m(\u001B[0m\u001B[0mos\u001B[0m\u001B[1;33m.\u001B[0m\u001B[0mpath\u001B[0m\u001B[1;33m.\u001B[0m\u001B[0mjoin\u001B[0m\u001B[1;33m(\u001B[0m\u001B[0mfoldername\u001B[0m\u001B[1;33m,\u001B[0m \u001B[0mf\u001B[0m\u001B[1;33m)\u001B[0m\u001B[1;33m)\u001B[0m\u001B[1;33m]\u001B[0m\u001B[1;33m\u001B[0m\u001B[1;33m\u001B[0m\u001B[0m\n\u001B[0m\u001B[0;32m      8\u001B[0m \u001B[1;33m\u001B[0m\u001B[0m\n\u001B[0;32m      9\u001B[0m \u001B[1;32mfor\u001B[0m \u001B[0mfilename\u001B[0m \u001B[1;32min\u001B[0m \u001B[0monlyfiles\u001B[0m\u001B[1;33m:\u001B[0m\u001B[1;33m\u001B[0m\u001B[1;33m\u001B[0m\u001B[0m\n",
      "\u001B[1;31mFileNotFoundError\u001B[0m: [WinError 3] Das System kann den angegebenen Pfad nicht finden: './Results/Full_parameter/'"
     ]
    }
   ],
   "source": [
    "samples_SS = np.empty([1,4])\n",
    "lpost_SS = np.empty([1])\n",
    "time_SS = []\n",
    "ess_SS = []\n",
    "\n",
    "foldername = './Results/Full_parameter/'\n",
    "onlyfiles = [f for f in os.listdir(foldername) if os.path.isfile(os.path.join(foldername, f))]\n",
    "\n",
    "for filename in onlyfiles:\n",
    "    # standard sampling\n",
    "    sample_result = pickle.load(open(foldername+filename, 'rb'))\n",
    "#     sample_result.burn_in = 10000\n",
    "\n",
    "    time_SS.append(sample_result.time)\n",
    "    ess_SS.append(sample_result.effective_sample_size)\n",
    "\n",
    "    samples_SS = np.concatenate((samples_SS,sample_result.trace_x[0, sample_result.burn_in:, :]), axis=0)\n",
    "    lpost_SS = np.concatenate((lpost_SS,-sample_result.trace_neglogpost[0, sample_result.burn_in:]), axis=0)\n",
    "    \n",
    "time_SS = np.asarray(time_SS)\n",
    "ess_SS = np.asarray(ess_SS)\n",
    "samples_SS = samples_SS[1:,:]\n",
    "lpost_SS = lpost_SS[1:]"
   ]
  },
  {
   "cell_type": "code",
   "execution_count": null,
   "metadata": {
    "pycharm": {
     "is_executing": true
    }
   },
   "outputs": [],
   "source": [
    "time_HS = []\n",
    "ess_HS = []\n",
    "samples_HS = np.empty([1,3])\n",
    "lpost_HS = np.empty([1])\n",
    "\n",
    "foldername = './Results/Offset_marginalized/'\n",
    "onlyfiles = [f for f in os.listdir(foldername) if os.path.isfile(os.path.join(foldername, f))]\n",
    "\n",
    "for filename in onlyfiles:\n",
    "    # standard sampling\n",
    "    sample_result, offset_values = pickle.load(open(foldername+filename, 'rb'))\n",
    "#     sample_result.burn_in = 10000\n",
    "        \n",
    "    time_HS.append(sample_result.time)\n",
    "    ess_HS.append(sample_result.effective_sample_size)\n",
    "\n",
    "    samples_HS = np.concatenate((samples_HS,sample_result.trace_x[0, sample_result.burn_in:, :]), axis=0)\n",
    "    lpost_HS = np.concatenate((lpost_HS,-sample_result.trace_neglogpost[0, sample_result.burn_in:]), axis=0)\n",
    "\n",
    "time_HS = np.asarray(time_HS)\n",
    "ess_HS = np.asarray(ess_HS)\n",
    "samples_HS = samples_HS[1:,:]\n",
    "lpost_HS = lpost_HS[1:]"
   ]
  },
  {
   "cell_type": "code",
   "execution_count": null,
   "metadata": {
    "pycharm": {
     "is_executing": true
    }
   },
   "outputs": [],
   "source": [
    "colors = ['tab:orange', 'tab:purple']\n",
    "labels=['Standard', 'Marginal']\n",
    "\n",
    "x_names=[r'log$(k_1)$', r'log$(k_2)$', 'scale', 'offset']\n",
    "\n",
    "step=10\n",
    "\n",
    "plt.figure(figsize=(12,4))\n",
    "for npar in range(len(x_names)):\n",
    "    \n",
    "    plt.subplot(1,len(x_names),npar+1)\n",
    "\n",
    "    sns.kdeplot(samples_SS[::step,npar], shade=True, color=colors[0], label='Standard')\n",
    "    if npar < 3:\n",
    "        sns.kdeplot(samples_HS[::step,npar], shade=True, color=colors[1], label='Marginalised')\n",
    "    else:\n",
    "        sns.kdeplot(offset_values[:,npar-3], shade=True, color=colors[1], label='Marginalised')\n",
    "\n",
    "    plt.yticks(fontsize=15)\n",
    "    plt.xticks(fontsize=15)\n",
    "    if npar == 0:\n",
    "        plt.ylabel('kde',fontsize=15)\n",
    "    plt.xlabel(x_names[npar],fontsize=15)\n",
    "    \n",
    "plt.suptitle('Laplace measurement noise - Marginalisation of offset',fontsize=17)\n",
    "plt.tight_layout()\n",
    "\n",
    "# plt.savefig('conversionReaction_Laplace_marginals.pdf', bbox_inches='tight')\n",
    "plt.show()"
   ]
  },
  {
   "cell_type": "code",
   "execution_count": null,
   "metadata": {
    "pycharm": {
     "is_executing": true
    }
   },
   "outputs": [],
   "source": [
    "labels=['Standard', 'Marginalised']\n",
    "\n",
    "print('Effective sample size')\n",
    "print('Standard: '+str(round(ess_SS[0],2)))\n",
    "print('Marginal: '+str(round(ess_HS[0],2)))\n",
    "\n",
    "plt.figure(figsize=(5,7))\n",
    "bplot = plt.boxplot([ess_SS, ess_HS], \n",
    "                    patch_artist=True, labels=labels,\n",
    "                    medianprops=dict(color='k'))\n",
    "# plt.ylim([0,0.05])\n",
    "plt.yticks(fontsize=15)\n",
    "plt.xticks(fontsize=15)\n",
    "plt.ylabel(r'Effective sample size',fontsize=15)\n",
    "plt.xlabel('Sampling approach',fontsize=15)\n",
    "\n",
    "# fill with colors\n",
    "colors = ['tab:orange', 'tab:purple']\n",
    "for patch, color in zip(bplot['boxes'], colors):\n",
    "    patch.set_facecolor(color)\n",
    "    \n",
    "plt.title('n = '+str(len(time_HS)),fontsize=15)\n",
    "\n",
    "plt.show()"
   ]
  },
  {
   "cell_type": "code",
   "execution_count": null,
   "metadata": {
    "pycharm": {
     "is_executing": true
    }
   },
   "outputs": [],
   "source": []
  }
 ],
 "metadata": {
  "kernelspec": {
   "name": "pycharm-5c126572",
   "language": "python",
   "display_name": "PyCharm (pyPESTO)"
  },
  "language_info": {
   "codemirror_mode": {
    "name": "ipython",
    "version": 3
   },
   "file_extension": ".py",
   "mimetype": "text/x-python",
   "name": "python",
   "nbconvert_exporter": "python",
   "pygments_lexer": "ipython3",
   "version": "3.8.5"
  }
 },
 "nbformat": 4,
 "nbformat_minor": 2
}