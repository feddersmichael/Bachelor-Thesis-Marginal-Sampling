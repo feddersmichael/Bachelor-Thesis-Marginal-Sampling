{
 "cells": [
  {
   "cell_type": "code",
   "execution_count": 9,
   "metadata": {
    "pycharm": {
     "is_executing": true,
     "name": "#%%\n"
    }
   },
   "outputs": [],
   "source": [
    "import pypesto\n",
    "import pypesto.petab\n",
    "import pypesto.optimize as optimize\n",
    "import pypesto.sample as sample\n",
    "import pypesto.visualize as visualize\n",
    "\n",
    "import petab\n",
    "import numpy as np\n",
    "from scipy.special import gammaln\n",
    "from scipy.special import gamma\n",
    "import pickle\n",
    "\n",
    "datatype = \"original\"\n",
    "\n",
    "# import to petab\n",
    "if datatype == \"original\":\n",
    "    petab_problem = petab.Problem.from_yaml(\n",
    "    \"corrupted_data/SS_conversion_reaction_original.yaml\")\n",
    "elif datatype == \"switch\":\n",
    "    petab_problem = petab.Problem.from_yaml(\n",
    "    \"corrupted_data/SS_conversion_reaction_switch.yaml\")\n",
    "else:\n",
    "    petab_problem = petab.Problem.from_yaml(\n",
    "    \"corrupted_data/SS_conversion_reaction_loss .yaml\")"
   ]
  },
  {
   "cell_type": "code",
   "execution_count": 10,
   "metadata": {
    "pycharm": {
     "is_executing": true,
     "name": "#%%\n"
    }
   },
   "outputs": [],
   "source": [
    "def analytical_b(t, a0, b0, k1, k2):\n",
    "    return (k2 - k2 * np.exp(-(k2 + k1) * t)) / (k2 + k1)\n",
    "\n",
    "def simulate_model(x, tvec):\n",
    "    # assign parameters\n",
    "    k1, k2, _ = x\n",
    "    # define initial conditions\n",
    "    a0 = 1\n",
    "    b0 = 0\n",
    "    # simulate model\n",
    "    simulation = [analytical_b(t, a0, b0, k1, k2)\n",
    "                   for t in tvec]\n",
    "    return simulation"
   ]
  },
  {
   "cell_type": "markdown",
   "metadata": {},
   "source": [
    "After importing the model, we need to define the objective function. This time we will do it via an external function that will be used then by pyPESTO instead of using the built-in ones.\n",
    "\n",
    "For numerical reasons we will implement the log likelihood and log prior."
   ]
  },
  {
   "cell_type": "code",
   "execution_count": 27,
   "metadata": {
    "pycharm": {
     "is_executing": true,
     "name": "#%%\n"
    }
   },
   "outputs": [
    {
     "name": "stdout",
     "output_type": "stream",
     "text": [
      "-11.236571144995112\n",
      "[-11.23657114  -9.25249419   0.           0.           0.\n",
      "   0.           0.           0.           0.           0.\n",
      "   0.           0.        ]\n",
      "[-11.23657114  -9.25249419  -7.2431228    0.           0.\n",
      "   0.           0.           0.           0.           0.\n",
      "   0.           0.        ]\n",
      "[-11.23657114  -9.25249419  -7.2431228   -5.23307536   0.\n",
      "   0.           0.           0.           0.           0.\n",
      "   0.           0.        ]\n",
      "[-11.23657114  -9.25249419  -7.2431228   -5.23307536  -3.20552136\n",
      "   0.           0.           0.           0.           0.\n",
      "   0.           0.        ]\n",
      "[-11.23657114  -9.25249419  -7.2431228   -5.23307536  -3.20552136\n",
      "  -1.16490707   0.           0.           0.           0.\n",
      "   0.           0.        ]\n",
      "[-11.23657114  -9.25249419  -7.2431228   -5.23307536  -3.20552136\n",
      "  -1.16490707   0.87856878   0.           0.           0.\n",
      "   0.           0.        ]\n",
      "[-11.23657114  -9.25249419  -7.2431228   -5.23307536  -3.20552136\n",
      "  -1.16490707   0.87856878   2.92236878   0.           0.\n",
      "   0.           0.        ]\n",
      "[-11.23657114  -9.25249419  -7.2431228   -5.23307536  -3.20552136\n",
      "  -1.16490707   0.87856878   2.92236878   4.97179912   0.\n",
      "   0.           0.        ]\n",
      "[-11.23657114  -9.25249419  -7.2431228   -5.23307536  -3.20552136\n",
      "  -1.16490707   0.87856878   2.92236878   4.97179912   7.03585339\n",
      "   0.           0.        ]\n",
      "[-11.23657114  -9.25249419  -7.2431228   -5.23307536  -3.20552136\n",
      "  -1.16490707   0.87856878   2.92236878   4.97179912   7.03585339\n",
      "   9.12817208   0.        ]\n",
      "[-11.23657114  -9.25249419  -7.2431228   -5.23307536  -3.20552136\n",
      "  -1.16490707   0.87856878   2.92236878   4.97179912   7.03585339\n",
      "   9.12817208  11.23657114]\n"
     ]
    }
   ],
   "source": [
    "def negative_log_marginalised_likelihood(x):\n",
    "    \"\"\" Negative log posterior function.\"\"\"\n",
    "\n",
    "    scale = x[2]\n",
    "\n",
    "    # experimental data\n",
    "    data = np.asarray(petab_problem.measurement_df.measurement)\n",
    "    # time vector\n",
    "    tvec = np.asarray(petab_problem.measurement_df.time)\n",
    "\n",
    "    N = len(tvec)\n",
    "\n",
    "    # simulate model\n",
    "    _simulation = simulate_model(np.exp(x), tvec)\n",
    "    simulation = np.asarray(_simulation)\n",
    "\n",
    "    # evaluate standard log likelihood\n",
    "    res = data - simulation\n",
    "    b_vector = sorted(res)\n",
    "    b_vector.append(0)\n",
    "    #r is the value for which b_(r+1) is the first vale which ich >= 0. To access that value in b_vector however\n",
    "    #one has to insert r-1\n",
    "    r = next(x for x, val in enumerate(b_vector) if val >= 0)\n",
    "    b_vector = b_vector[:-1]\n",
    "    h_vector = np.zeros(N-r+1)\n",
    "    l_vector = np.zeros(N-r+1)\n",
    "    l_llh = np.zeros(N-r+1)\n",
    "    \n",
    "    \n",
    "    h_vector[0] = (lamda / (2*(N - 2*r - lamda))) * (np.exp(b_vector[r] * (N - 2*r - lamda)) - 1)\n",
    "    for i in range(1, N-r):\n",
    "        const = N - 2*(i + r) - lamda\n",
    "        h_vector[i] = (lamda / (2 * const)) * (np.exp(b_vector[i + r] * const) - np.exp(b_vector[i + r -1] * const))\n",
    "    h_vector[N-r] = (lamda / (2 * (N + lamda))) * np.exp(b_vector[N-1] * (-N - lamda))\n",
    "    \n",
    "    if r == 0:\n",
    "        l_vector[0] = - np.sum(b_vector)\n",
    "    else:\n",
    "        l_vector[0] = np.sum(b_vector[:r - 1]) - np.sum(b_vector[r:])\n",
    "    \n",
    "    print(l_vector[0])\n",
    "    for i in range(1, N-r+1):\n",
    "        l_vector[i] = l_vector[i - 1] + 2*b_vector[i + r - 1]\n",
    "        print(l_vector)\n",
    "    \n",
    "    for i in range(N-r+1):\n",
    "        l_llh[i] = (h_vector[i]/scale) * np.exp(l_vector[i]/scale)\n",
    "    \n",
    "    return -np.log(np.sum(l_llh))\n",
    "\n",
    "x0 = np.array([-1.5, -0.5,  0.1])\n",
    "z = negative_log_marginalised_likelihood(x0)"
   ]
  },
  {
   "cell_type": "code",
   "execution_count": 28,
   "metadata": {},
   "outputs": [
    {
     "data": {
      "text/plain": [
       "-95.36443838878465"
      ]
     },
     "execution_count": 28,
     "metadata": {},
     "output_type": "execute_result"
    }
   ],
   "source": [
    "z"
   ]
  },
  {
   "cell_type": "markdown",
   "metadata": {},
   "source": [
    "Now that we have the objective function defined, we need to create a pyPESTO problem."
   ]
  },
  {
   "cell_type": "code",
   "execution_count": null,
   "metadata": {
    "pycharm": {
     "is_executing": true,
     "name": "#%%\n"
    }
   },
   "outputs": [],
   "source": [
    "def standard_sampling():\n",
    "    \"\"\"Creates a pyPESTO problem.\"\"\"\n",
    "    objective = pypesto.Objective(fun=negative_log_marginalised_likelihood)\n",
    "    problem = pypesto.Problem(objective=objective,  # objective function\n",
    "                              lb=[-5, -5, 0],  # lower bounds\n",
    "                              ub=[5, 5, np.inf],  # upper bounds\n",
    "                              x_names=['k1', 'k2', 'scale'],  # parameter names\n",
    "                              x_scales=['log', 'log', 'lin'])  # parameter scale\n",
    "    return problem"
   ]
  },
  {
   "cell_type": "code",
   "execution_count": null,
   "metadata": {
    "pycharm": {
     "is_executing": true,
     "name": "#%%\n"
    }
   },
   "outputs": [],
   "source": [
    "### Prior dependent paramters\n",
    "\n",
    "lamda = 0.01\n",
    "\n",
    "# create the estimation problem\n",
    "problem = standard_sampling()\n",
    "\n",
    "# MCMC chain length\n",
    "n_samples= 10000\n",
    "\n",
    "# call the sampler of choice\n",
    "sampler = sample.AdaptiveMetropolisSampler()"
   ]
  },
  {
   "cell_type": "markdown",
   "metadata": {},
   "source": [
    "Now we can perform the actual sampling."
   ]
  },
  {
   "cell_type": "code",
   "execution_count": null,
   "metadata": {
    "pycharm": {
     "is_executing": true,
     "name": "#%%\n"
    }
   },
   "outputs": [],
   "source": [
    "# Define number of runs\n",
    "runs = 1\n",
    "\n",
    "save_results = False # for testing just set to False\n",
    "\n",
    "# Loop over n runs\n",
    "for n in range(runs):\n",
    "    # set initial random seed\n",
    "    np.random.seed(n)\n",
    "    # perform MCMC sampling\n",
    "    result = sample.sample(problem, n_samples=n_samples, sampler=sampler,\n",
    "                           x0=np.array([-1.2741, -0.6160, 0.3684]))\n",
    "    # calculate effective sample size\n",
    "    sample.effective_sample_size(result=result)\n",
    "\n",
    "    # save the results as a pickle object\n",
    "    if save_results:\n",
    "        results = [result.sample_result, 'LP_CR_OM']\n",
    "        with open('Results/Offset_marginalized/' + str(n) + '.pickle','wb') as result_file:\n",
    "            pickle.dump(results, result_file, n)"
   ]
  },
  {
   "cell_type": "markdown",
   "metadata": {},
   "source": [
    "There are some built-in visualization functions that one can use."
   ]
  },
  {
   "cell_type": "code",
   "execution_count": null,
   "metadata": {
    "pycharm": {
     "is_executing": true,
     "name": "#%%\n"
    }
   },
   "outputs": [],
   "source": [
    "# Visualize the parameter trace\n",
    "ax = visualize.sampling.sampling_parameters_trace(result, use_problem_bounds=False, full_trace=True, size=(12,5))\n",
    "# Visualize the one-dimensional marginals --> Important!\n",
    "ax = visualize.sampling_1d_marginals(result, size=(12,5))"
   ]
  },
  {
   "cell_type": "code",
   "execution_count": null,
   "metadata": {
    "pycharm": {
     "is_executing": true,
     "name": "#%%\n"
    }
   },
   "outputs": [],
   "source": [
    "# Visualize the parameter trace\n",
    "ax = visualize.sampling.sampling_parameters_trace(result, use_problem_bounds=False, full_trace=True, size=(12,5))\n",
    "# Visualize the one-dimensional marginals --> Important!\n",
    "ax = visualize.sampling_1d_marginals(result, size=(12,5))"
   ]
  },
  {
   "cell_type": "code",
   "execution_count": null,
   "metadata": {
    "pycharm": {
     "is_executing": true
    }
   },
   "outputs": [],
   "source": []
  }
 ],
 "metadata": {
  "kernelspec": {
   "display_name": "Python 3",
   "language": "python",
   "name": "python3"
  },
  "language_info": {
   "codemirror_mode": {
    "name": "ipython",
    "version": 3
   },
   "file_extension": ".py",
   "mimetype": "text/x-python",
   "name": "python",
   "nbconvert_exporter": "python",
   "pygments_lexer": "ipython3",
   "version": "3.8.5"
  }
 },
 "nbformat": 4,
 "nbformat_minor": 1
}